{
 "cells": [
  {
   "attachments": {},
   "cell_type": "markdown",
   "id": "d3f6e12e",
   "metadata": {},
   "source": [
    "# Installation\n",
    "\n",
    "Welcome! For installing this code we assume you have a Python environment set up, into which you can install packages via `pip`. If this isn't the case, we recommend installing the Anaconda `python` distribution, and using `conda` to manage the version(s) of `python` you have installed on your computer. One (of many) tutorials about how to get started with Python is available [here](https://github.com/ers-transit/hackathon-2021-day0).\n",
    "\n",
    "## Basic Installation\n",
    "\n",
    "If you want to install this code just to use it, you can simply run\n",
    "```\n",
    "pip install rainbow-connection\n",
    "```\n",
    "and it should install everything, along with all the dependencies needed to run the code. If you previously installed this package and need to grab a newer version, you can run\n",
    "```\n",
    "pip install --upgrade rainbow-connection\n",
    "```\n",
    "\n",
    "## Developer Installation\n",
    "\n",
    "If you want to install this code while being able to edit and develop it, you can fork and/or clone its [github repository](https://github.com/zkbt/rainbow-connection.git) onto your own computer and then install it directly as an editable package its local directory by running\n",
    "```\n",
    "git clone https://github.com/zkbt/rainbow-connection.git\n",
    "cd rainbow-connection\n",
    "pip install -e '.[develop]'\n",
    "```\n",
    "This will point your environment's `rainbow-connection` package to your local folder, meaning that any changes you make in the repository will be reflected what Python sees when it tries to `import rainbowconnection`. Including the `[develop]` after the `.` will install both the dependencies for the package itself and the extra dependencies required for development (= testing and documentation).\n",
    "\n",
    "You can quickly test whether your installation worked, and what version you have, by running the Python code"
   ]
  },
  {
   "cell_type": "code",
   "execution_count": null,
   "id": "5720be97",
   "metadata": {},
   "outputs": [],
   "source": [
    "import rainbowconnection\n",
    "\n",
    "rainbowconnection.version()"
   ]
  },
  {
   "attachments": {},
   "cell_type": "markdown",
   "id": "0c539c79",
   "metadata": {},
   "source": [
    "Happy `chromatic`-ing!"
   ]
  }
 ],
 "metadata": {
  "kernelspec": {
   "display_name": "Python 3 (ipykernel)",
   "language": "python",
   "name": "python3"
  },
  "language_info": {
   "codemirror_mode": {
    "name": "ipython",
    "version": 3
   },
   "file_extension": ".py",
   "mimetype": "text/x-python",
   "name": "python",
   "nbconvert_exporter": "python",
   "pygments_lexer": "ipython3",
   "version": "3.9.5"
  }
 },
 "nbformat": 4,
 "nbformat_minor": 5
}
