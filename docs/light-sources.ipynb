{
 "cells": [
  {
   "cell_type": "markdown",
   "metadata": {},
   "source": [
    "# Light Sources\n",
    "\n",
    "The `rainbowconnection` allows us to create different light sources. These sources can have very different spectra, but all represent spherically symmetrical emission. Here, we walk through some of the basic properties and functionality of these light sources."
   ]
  },
  {
   "cell_type": "code",
   "execution_count": null,
   "metadata": {},
   "outputs": [],
   "source": [
    "from rainbowconnection import Sun, Thermal, Incandescent, Sodium\n",
    "import matplotlib.pyplot as plt, numpy as np\n",
    "import astropy.units as u"
   ]
  },
  {
   "cell_type": "markdown",
   "metadata": {},
   "source": [
    "## Basics of `Spectrum` Objects"
   ]
  },
  {
   "cell_type": "markdown",
   "metadata": {},
   "source": [
    "Let's start by creating a `Spectrum` object to represent the Sun, and then walk through a few of its basic methods."
   ]
  },
  {
   "cell_type": "code",
   "execution_count": null,
   "metadata": {},
   "outputs": [],
   "source": [
    "s = Sun()\n",
    "s"
   ]
  },
  {
   "cell_type": "markdown",
   "metadata": {},
   "source": [
    "The `.plot()` method makes a simple summary plot of the spectrum. By default, it adds a reference rainbow along the top of the plot, and sets the color of the line to match the estimated visual color of the source."
   ]
  },
  {
   "cell_type": "code",
   "execution_count": null,
   "metadata": {},
   "outputs": [],
   "source": [
    "s.plot();"
   ]
  },
  {
   "cell_type": "markdown",
   "metadata": {},
   "source": [
    "The `.wavelength()` and `.spectrum()` methods return the spectrum on the wavelength grid on which they have been originally defined. Both have `astropy.units` attached to them; these [units](http://docs.astropy.org/en/stable/units/) ensure consistency amongst all the physical quantities we're using."
   ]
  },
  {
   "cell_type": "code",
   "execution_count": null,
   "metadata": {},
   "outputs": [],
   "source": [
    "s.wavelength()"
   ]
  },
  {
   "cell_type": "code",
   "execution_count": null,
   "metadata": {},
   "outputs": [],
   "source": [
    "s.spectrum()"
   ]
  },
  {
   "cell_type": "markdown",
   "metadata": {},
   "source": [
    "The `.integrate` method will integrate the spectrum over specified wavelength limits. If no wavelengths are specified, the integral will be performed over the whole wavelength range."
   ]
  },
  {
   "cell_type": "code",
   "execution_count": null,
   "metadata": {},
   "outputs": [],
   "source": [
    "s.integrate(400*u.nm, 600*u.nm)"
   ]
  },
  {
   "cell_type": "code",
   "execution_count": null,
   "metadata": {},
   "outputs": [],
   "source": [
    "s.integrate()"
   ]
  },
  {
   "cell_type": "markdown",
   "metadata": {},
   "source": [
    "## Different Light Sources \n",
    "\n",
    "`Sun` is just one example of a `Spectrum` object. We can create lots of different kinds of these objects to represent different kinds of light sources, and all of them will inherit the above methods. Here are a few examples of available sources."
   ]
  },
  {
   "cell_type": "code",
   "execution_count": null,
   "metadata": {},
   "outputs": [],
   "source": [
    "t = Thermal(teff=7000*u.K, radius=1*u.mm)\n",
    "t"
   ]
  },
  {
   "cell_type": "code",
   "execution_count": null,
   "metadata": {},
   "outputs": [],
   "source": [
    "i = Incandescent()\n",
    "i"
   ]
  },
  {
   "cell_type": "code",
   "execution_count": null,
   "metadata": {},
   "outputs": [],
   "source": [
    "na = Sodium(power=12*u.W)\n",
    "na"
   ]
  },
  {
   "cell_type": "markdown",
   "metadata": {},
   "source": [
    "We can use the `.at()` method to normalize light sources to be viewed at a particular distance. Most light sources start off expressed in units of luminosity ($W$), but sources viewed `.at` some distance will have units of flux ($W/m^2$)."
   ]
  },
  {
   "cell_type": "code",
   "execution_count": null,
   "metadata": {},
   "outputs": [],
   "source": [
    "solarconstant = Sun().at(1*u.AU)\n",
    "solarconstant.integrate().to('W/m**2')"
   ]
  },
  {
   "cell_type": "markdown",
   "metadata": {},
   "source": [
    "## Plotting Light Sources\n",
    "We can plot or visualize `Spectrum` objects in different ways. We've already seen the `.plot()` method, which also accepts various keyword arguments. The plots are generate with standard `matplotlib.pyplot` tools, so common commands can be used to modify plots that have been created."
   ]
  },
  {
   "cell_type": "code",
   "execution_count": null,
   "metadata": {},
   "outputs": [],
   "source": [
    "s.plot();"
   ]
  },
  {
   "cell_type": "code",
   "execution_count": null,
   "metadata": {},
   "outputs": [],
   "source": [
    "s.plot(rainbow=False, color='aquamarine', linewidth=3);"
   ]
  },
  {
   "cell_type": "markdown",
   "metadata": {},
   "source": [
    "To include multiple spectra on the same plot, we can catch the `axes` object returned by each plotting command and feed it in as a keyword argument to future plots. For example, we might want to directly compare the Sun's spectrum to a Planck approximation:"
   ]
  },
  {
   "cell_type": "code",
   "execution_count": null,
   "metadata": {},
   "outputs": [],
   "source": [
    "t = Thermal(5800*u.K, 1*u.Rsun)\n",
    "ax = t.plot(wavelength=s.wavelength(), color='gray', linestyle='--')\n",
    "s.plot(ax=ax, color='hotpink')\n",
    "plt.xscale('log'); plt.yscale('log');"
   ]
  },
  {
   "cell_type": "markdown",
   "metadata": {},
   "source": [
    "Or, we might want to compare the Planck thermal emission spectra of sources with different temperatures."
   ]
  },
  {
   "cell_type": "code",
   "execution_count": null,
   "metadata": {},
   "outputs": [],
   "source": [
    "ax = None\n",
    "for T in np.arange(1000, 20000, 500)*u.K:\n",
    "    t = Thermal(T)\n",
    "    ax = t.plot(ax)\n",
    "plt.yscale('log')\n",
    "plt.xscale('log')\n",
    "plt.ylim(1e12, 1e26);"
   ]
  },
  {
   "cell_type": "markdown",
   "metadata": {},
   "source": [
    "We can plot the spectrum with a rainbow included, to directly visualize the amount of visible light of particular colors."
   ]
  },
  {
   "cell_type": "code",
   "execution_count": null,
   "metadata": {},
   "outputs": [],
   "source": [
    "s.plot_as_rainbow();"
   ]
  },
  {
   "cell_type": "markdown",
   "metadata": {},
   "source": [
    "Or we can plot as the spectrum that would be seen visually through a slit spectroscope."
   ]
  },
  {
   "cell_type": "code",
   "execution_count": null,
   "metadata": {},
   "outputs": [],
   "source": [
    "s.plot_as_slit_rainbow();"
   ]
  },
  {
   "cell_type": "markdown",
   "metadata": {},
   "source": [
    "We can also integrate the spectrum into (approximate) RGB bins."
   ]
  },
  {
   "cell_type": "code",
   "execution_count": null,
   "metadata": {},
   "outputs": [],
   "source": [
    "s.plot_rgb();"
   ]
  },
  {
   "cell_type": "markdown",
   "metadata": {},
   "source": [
    "To access the RGB color of a source, for plotting purposes, use the `.to_color()` method."
   ]
  },
  {
   "cell_type": "code",
   "execution_count": null,
   "metadata": {},
   "outputs": [],
   "source": [
    "s.to_color()"
   ]
  },
  {
   "cell_type": "code",
   "execution_count": null,
   "metadata": {},
   "outputs": [],
   "source": [
    "# plot the Stefan-Boltzman Law\n",
    "temperatures = np.arange(1000, 15000, 500)*u.K\n",
    "plt.plot(temperatures, 5.67e-8*temperatures**4, \n",
    "         zorder=-1, color='gray')\n",
    "\n",
    "# plot individual fluxes, with colors\n",
    "for T in temperatures:\n",
    "    t = Thermal(T, radius=1*u.mm).at(1*u.mm)\n",
    "    plt.scatter(t.teff, t.integrate(), color=t.to_color(), edgecolor='black', s=100)\n",
    "\n",
    "# tidy up the plot\n",
    "plt.xlabel('Temperature (K)')\n",
    "plt.ylabel('Surface Flux $(W/m^2)$');"
   ]
  },
  {
   "cell_type": "markdown",
   "metadata": {},
   "source": [
    "## Flexible Wavelengths\n",
    "\n",
    "All `Spectrum` objects have a default grid of internally-defined wavelengths. However, you might want to know the spectrum on your own grid of wavelengths. Most methods that return or do anything related to a spectrum accept a `wavelength=` keyword argument, which you can use to resample onto your desired grid."
   ]
  },
  {
   "cell_type": "code",
   "execution_count": null,
   "metadata": {},
   "outputs": [],
   "source": [
    "w = np.linspace(.3, .8, 30)*u.um\n",
    "s.plot(wavelength=w);"
   ]
  },
  {
   "cell_type": "code",
   "execution_count": null,
   "metadata": {},
   "outputs": [],
   "source": [
    "s.spectrum(w)"
   ]
  },
  {
   "cell_type": "markdown",
   "metadata": {},
   "source": [
    "When resampling to a new wavelength grid, the code will do its best to conserve integrated flux. That is, the integral between two wavelengths should be more-or-less constant across different choices of wavelength grid. "
   ]
  }
 ],
 "metadata": {
  "kernelspec": {
   "display_name": "Python 3 (ipykernel)",
   "language": "python",
   "name": "python3"
  },
  "language_info": {
   "codemirror_mode": {
    "name": "ipython",
    "version": 3
   },
   "file_extension": ".py",
   "mimetype": "text/x-python",
   "name": "python",
   "nbconvert_exporter": "python",
   "pygments_lexer": "ipython3",
   "version": "3.9.5"
  }
 },
 "nbformat": 4,
 "nbformat_minor": 2
}
