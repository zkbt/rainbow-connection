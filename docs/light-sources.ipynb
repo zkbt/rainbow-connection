{
 "cells": [
  {
   "attachments": {},
   "cell_type": "markdown",
   "metadata": {},
   "source": [
    "# Light Sources\n",
    "\n",
    "The `rainbowconnection` allows us to create different light sources. These sources can have very different spectra, but all represent spherically symmetrical emission. Here, we walk through some of the basic properties and functionality of these light sources."
   ]
  },
  {
   "cell_type": "code",
   "execution_count": null,
   "metadata": {},
   "outputs": [],
   "source": [
    "from rainbowconnection import Sun, Star, Thermal, Incandescent, Sodium\n",
    "import matplotlib.pyplot as plt, numpy as np\n",
    "import astropy.units as u"
   ]
  },
  {
   "attachments": {},
   "cell_type": "markdown",
   "metadata": {},
   "source": [
    "## Basics of `Spectrum` Objects"
   ]
  },
  {
   "attachments": {},
   "cell_type": "markdown",
   "metadata": {},
   "source": [
    "Let's start by creating a `Spectrum` object to represent the Sun, and then walk through a few of its basic methods."
   ]
  },
  {
   "cell_type": "code",
   "execution_count": null,
   "metadata": {},
   "outputs": [],
   "source": [
    "s = Sun()"
   ]
  },
  {
   "attachments": {},
   "cell_type": "markdown",
   "metadata": {},
   "source": [
    "Above we created an object containing the spectrum of the Sun. If we run a notebook cell containing just the name of that variable, it will display a default representation of it, which in this case is just the name `\"Sun\"`."
   ]
  },
  {
   "cell_type": "code",
   "execution_count": null,
   "metadata": {},
   "outputs": [],
   "source": [
    "s"
   ]
  },
  {
   "attachments": {},
   "cell_type": "markdown",
   "metadata": {},
   "source": [
    "### Make simple spectrum plots.\n",
    "\n",
    "The `.plot()` method makes a simple summary plot of the spectrum. By default, it adds a reference rainbow along the top of the plot, and sets the color of the line to match the estimated visual color of the source."
   ]
  },
  {
   "cell_type": "code",
   "execution_count": null,
   "metadata": {},
   "outputs": [],
   "source": [
    "s.plot();"
   ]
  },
  {
   "attachments": {},
   "cell_type": "markdown",
   "metadata": {},
   "source": [
    "### Retrieve wavelength and spectrum arrays \n",
    "\n",
    "All `Spectrum` objects have a `.wavelength` attribute that contains the default wavelengths at which the spectrum is defined and a `.spectrum()` method that (with no inputs) returns the spectrum at those default wavelengths. Both have `astropy.units` attached to them; these [units](http://docs.astropy.org/en/stable/units/) ensure consistency among all the physical quantities we're using."
   ]
  },
  {
   "cell_type": "code",
   "execution_count": null,
   "metadata": {},
   "outputs": [],
   "source": [
    "s.wavelength"
   ]
  },
  {
   "cell_type": "code",
   "execution_count": null,
   "metadata": {},
   "outputs": [],
   "source": [
    "s.spectrum()"
   ]
  },
  {
   "attachments": {},
   "cell_type": "markdown",
   "metadata": {},
   "source": [
    "You can store these arrays in variables, do math with them, or build whatever you want from them. Let's plot them, approximately reproducing part of the figure above."
   ]
  },
  {
   "cell_type": "code",
   "execution_count": null,
   "metadata": {},
   "outputs": [],
   "source": [
    "default_wavelength = s.wavelength\n",
    "default_spectrum = s.spectrum()\n",
    "\n",
    "plt.plot(default_wavelength, default_spectrum);"
   ]
  },
  {
   "attachments": {},
   "cell_type": "markdown",
   "metadata": {},
   "source": [
    "Because you might want to know the spectrum at a different set of wavelengths than the default one, the `.spectrum` function can also accept a grid of wavelengths as an input argument, to return the spectrum at those wavelengths, as in the following. The wavelengths need to have `astropy` units associated with them to help make sure we don't make any accidental unit mistakes. In the code below, let's get the spectrum for just the visible light range, and overplot it on the default wavelengths."
   ]
  },
  {
   "cell_type": "code",
   "execution_count": null,
   "metadata": {},
   "outputs": [],
   "source": [
    "my_wavelength = np.linspace(400, 700, 50)*u.nm\n",
    "my_spectrum = s.spectrum(my_wavelength)\n",
    "\n",
    "plt.plot(default_wavelength, default_spectrum)\n",
    "plt.plot(my_wavelength, my_spectrum, linewidth=3)\n",
    "plt.xlabel(f\"Wavelength ({my_wavelength.unit})\")\n",
    "plt.ylabel(f\"Spectrum ({my_spectrum.unit})\");"
   ]
  },
  {
   "attachments": {},
   "cell_type": "markdown",
   "metadata": {},
   "source": [
    "### Integrate over wavelength \n",
    "\n",
    "The `.integrate` method will integrate the spectrum over specified wavelength limits, doing a numerical integral with the values in the array. If no wavelengths are specified, or if the limits go from 0 to infinity, the integral will be performed over the whole wavelength range.\n",
    "\n",
    "If $S_\\lambda$ is our original spectrum in units like $\\mathrm{W~nm^{-1}}$, then doing the integral over wavelength will get rid of the units of $\\mathrm{nm^{-1}}$, leaving just $\\mathrm{W}$. "
   ]
  },
  {
   "cell_type": "code",
   "execution_count": null,
   "metadata": {},
   "outputs": [],
   "source": [
    "s.integrate(400 * u.nm, 600 * u.nm)"
   ]
  },
  {
   "cell_type": "code",
   "execution_count": null,
   "metadata": {},
   "outputs": [],
   "source": [
    "s.integrate()"
   ]
  },
  {
   "attachments": {},
   "cell_type": "markdown",
   "metadata": {},
   "source": [
    "## Different Light Sources \n",
    "\n",
    "`Sun` is just one example of a `Spectrum` object. We can create lots of different kinds of these objects to represent different kinds of light sources, and all of them will inherit the above methods. Here are a few examples of available sources."
   ]
  },
  {
   "cell_type": "code",
   "execution_count": null,
   "metadata": {},
   "outputs": [],
   "source": [
    "t = Thermal(teff=7000 * u.K, radius=1 * u.mm)\n",
    "t.plot();"
   ]
  },
  {
   "cell_type": "code",
   "execution_count": null,
   "metadata": {},
   "outputs": [],
   "source": [
    "i = Incandescent()\n",
    "i.plot();"
   ]
  },
  {
   "cell_type": "code",
   "execution_count": null,
   "metadata": {},
   "outputs": [],
   "source": [
    "na = Sodium(power=12 * u.W)\n",
    "na.plot();"
   ]
  },
  {
   "cell_type": "code",
   "execution_count": null,
   "metadata": {},
   "outputs": [],
   "source": [
    "st = Star(teff=3000*u.K, radius=0.2*u.Rsun, mass=0.2*u.Msun)\n",
    "st.plot();"
   ]
  },
  {
   "attachments": {},
   "cell_type": "markdown",
   "metadata": {},
   "source": [
    "## Convert from luminosity to flux \n",
    "We can use the `.at()` method to normalize light sources to be viewed at a particular distance. Most light sources start off expressed in units of luminosity ($W$), but sources viewed `.at` some distance will have units of flux ($W/m^2$)."
   ]
  },
  {
   "cell_type": "code",
   "execution_count": null,
   "metadata": {},
   "outputs": [],
   "source": [
    "solarconstant = Sun().at(1 * u.AU)\n",
    "solarconstant.integrate().to(\"W/m**2\")"
   ]
  },
  {
   "attachments": {},
   "cell_type": "markdown",
   "metadata": {},
   "source": [
    "## Plotting Light Sources\n",
    "We can plot or visualize `Spectrum` objects in different ways. We've already seen the `.plot()` method, which also accepts various keyword arguments. The plots are generate with standard `matplotlib.pyplot` tools, so common commands can be used to modify plots that have been created."
   ]
  },
  {
   "cell_type": "code",
   "execution_count": null,
   "metadata": {},
   "outputs": [],
   "source": [
    "s.plot();"
   ]
  },
  {
   "cell_type": "code",
   "execution_count": null,
   "metadata": {},
   "outputs": [],
   "source": [
    "s.plot(rainbow=False, color=\"aquamarine\", linewidth=3);"
   ]
  },
  {
   "attachments": {},
   "cell_type": "markdown",
   "metadata": {},
   "source": [
    "To include multiple spectra on the same plot, we can catch the `axes` object returned by each plotting command and feed it in as a keyword argument to future plots. For example, we might want to directly compare the Sun's spectrum to a Planck approximation:"
   ]
  },
  {
   "cell_type": "code",
   "execution_count": null,
   "metadata": {},
   "outputs": [],
   "source": [
    "t = Thermal(5800 * u.K, 1 * u.Rsun)\n",
    "ax = t.plot(wavelength=s.wavelength, color=\"gray\", linestyle=\"--\")\n",
    "s.plot(ax=ax, color=\"hotpink\")\n",
    "plt.xscale(\"log\")\n",
    "plt.yscale(\"log\");"
   ]
  },
  {
   "attachments": {},
   "cell_type": "markdown",
   "metadata": {},
   "source": [
    "Or, we might want to compare the Planck thermal emission spectra of sources with different temperatures."
   ]
  },
  {
   "cell_type": "code",
   "execution_count": null,
   "metadata": {},
   "outputs": [],
   "source": [
    "ax = None\n",
    "for T in np.arange(1000, 20000, 500) * u.K:\n",
    "    t = Thermal(T)\n",
    "    ax = t.plot(ax)\n",
    "plt.yscale(\"log\")\n",
    "plt.xscale(\"log\")\n",
    "plt.xlim(100, 1000)\n",
    "plt.ylim(1e12, 1e26);"
   ]
  },
  {
   "attachments": {},
   "cell_type": "markdown",
   "metadata": {},
   "source": [
    "We can plot the spectrum with a rainbow included, to directly visualize the amount of visible light of particular colors."
   ]
  },
  {
   "cell_type": "code",
   "execution_count": null,
   "metadata": {},
   "outputs": [],
   "source": [
    "s.plot_as_rainbow();"
   ]
  },
  {
   "attachments": {},
   "cell_type": "markdown",
   "metadata": {},
   "source": [
    "Or we can plot as the spectrum that would be seen visually through a slit spectroscope."
   ]
  },
  {
   "cell_type": "code",
   "execution_count": null,
   "metadata": {},
   "outputs": [],
   "source": [
    "s.plot_as_slit_rainbow();"
   ]
  },
  {
   "attachments": {},
   "cell_type": "markdown",
   "metadata": {},
   "source": [
    "We can also integrate the spectrum into RGB (= red, green, blue) wavelength bins, crudely approximating what many people can detect with their eyes (except folks who experience some kinds of color-blindness or amazing magical tetrachromacy)."
   ]
  },
  {
   "cell_type": "code",
   "execution_count": null,
   "metadata": {},
   "outputs": [],
   "source": [
    "s.plot_rgb();"
   ]
  },
  {
   "attachments": {},
   "cell_type": "markdown",
   "metadata": {},
   "source": [
    "To access the RGB color of a source, for plotting purposes, use the `.to_color()` method. It will return three numbers, representing the relative amounts of red, green, and blue intensity needed to represent the color of this light source to the human eye. "
   ]
  },
  {
   "cell_type": "code",
   "execution_count": null,
   "metadata": {},
   "outputs": [],
   "source": [
    "s.to_color()"
   ]
  },
  {
   "attachments": {},
   "cell_type": "markdown",
   "metadata": {},
   "source": [
    "With these tools, we can plot the [Stefan-Boltzmann law](https://en.wikipedia.org/wiki/Stefan%E2%80%93Boltzmann_law) using the raw $\\sigma T^4$ equation and this more complicated `Spectrum` objects (which we can also use to figure out the apparent color of each temperature.)."
   ]
  },
  {
   "cell_type": "code",
   "execution_count": null,
   "metadata": {},
   "outputs": [],
   "source": [
    "# plot the Stefan-Boltzman Law\n",
    "temperatures = np.arange(1000, 15000, 500) * u.K\n",
    "plt.plot(temperatures, 5.67e-8 * temperatures**4, zorder=-1, color=\"gray\")\n",
    "\n",
    "# plot individual fluxes, with colors\n",
    "for T in temperatures:\n",
    "    t = Thermal(T, radius=1 * u.mm).at(1 * u.mm)\n",
    "    plt.scatter(t.teff, t.integrate(), color=t.to_color(), edgecolor=\"black\", s=100)\n",
    "\n",
    "# tidy up the plot\n",
    "plt.xlabel(\"Temperature (K)\")\n",
    "plt.ylabel(\"Surface Flux $(W/m^2)$\");"
   ]
  }
 ],
 "metadata": {
  "kernelspec": {
   "display_name": "Python 3 (ipykernel)",
   "language": "python",
   "name": "python3"
  },
  "language_info": {
   "codemirror_mode": {
    "name": "ipython",
    "version": 3
   },
   "file_extension": ".py",
   "mimetype": "text/x-python",
   "name": "python",
   "nbconvert_exporter": "python",
   "pygments_lexer": "ipython3",
   "version": "3.10.8"
  }
 },
 "nbformat": 4,
 "nbformat_minor": 2
}
