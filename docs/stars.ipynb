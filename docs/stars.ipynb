{
 "cells": [
  {
   "attachments": {},
   "cell_type": "markdown",
   "id": "0e72a610",
   "metadata": {},
   "source": [
    "# Stellar Spectra\n",
    "\n",
    "You can make a light source object that uses a stellar spectrum, based on the theoretical models of [Husser et al. (2013)](http://phoenix.astro.physik.uni-goettingen.de/#)."
   ]
  },
  {
   "cell_type": "code",
   "execution_count": null,
   "id": "1282c4cd",
   "metadata": {},
   "outputs": [],
   "source": [
    "from rainbowconnection import *"
   ]
  },
  {
   "attachments": {},
   "cell_type": "markdown",
   "id": "61e2ecbe",
   "metadata": {},
   "source": [
    "The first time you try to make a stellar spectrum, it should try to automatically download the library files you need for it; you'll need to be connected to the internet for this step. If you try to generate a very high resolution stellar spectrum, it may take a long time for those files to download!"
   ]
  },
  {
   "cell_type": "code",
   "execution_count": null,
   "id": "45973c7e",
   "metadata": {},
   "outputs": [],
   "source": [
    "s = Star(teff=3700 * u.K, radius=0.75 * u.Rsun, mass=0.5 * u.Msun, R=10000)"
   ]
  },
  {
   "attachments": {},
   "cell_type": "markdown",
   "id": "a6b6cf3b",
   "metadata": {},
   "source": [
    "Let's plot it, both as a 1D spectrum and as it might appear through a visual spectroscope."
   ]
  },
  {
   "cell_type": "code",
   "execution_count": null,
   "id": "5311e2c8",
   "metadata": {},
   "outputs": [],
   "source": [
    "s.plot();"
   ]
  },
  {
   "cell_type": "code",
   "execution_count": null,
   "id": "4e8f8f49",
   "metadata": {},
   "outputs": [],
   "source": [
    "s.plot_as_slit_rainbow();"
   ]
  },
  {
   "attachments": {},
   "cell_type": "markdown",
   "id": "bd2f1b86",
   "metadata": {},
   "source": [
    "If you want access to the arrays of flux and wavelengths, you can pull them out via the `.wavelength()` and `.spectrum()` methods."
   ]
  },
  {
   "cell_type": "code",
   "execution_count": null,
   "id": "961a162d",
   "metadata": {},
   "outputs": [],
   "source": [
    "w = s.wavelength\n",
    "f = s.spectrum()\n",
    "plt.plot(w, f);"
   ]
  },
  {
   "attachments": {},
   "cell_type": "markdown",
   "id": "8e9783cb",
   "metadata": {},
   "source": [
    "You might want to know an estimate of the spectrum of the star for a wavelength that's not exactly in the original wavelength grid. You can do so by feeding those wavelengths into the star's `.spectrum()` method."
   ]
  },
  {
   "cell_type": "code",
   "execution_count": null,
   "id": "d0de31b7",
   "metadata": {},
   "outputs": [],
   "source": [
    "w_other = np.linspace(700, 720, 200) * u.nm\n",
    "f_other = s.spectrum(w_other)\n",
    "\n",
    "plt.plot(w, f)\n",
    "plt.plot(w_other, f_other)\n",
    "plt.xlim(695, 725);"
   ]
  },
  {
   "cell_type": "code",
   "execution_count": null,
   "id": "92781b71",
   "metadata": {},
   "outputs": [],
   "source": []
  }
 ],
 "metadata": {
  "kernelspec": {
   "display_name": "Python 3 (ipykernel)",
   "language": "python",
   "name": "python3"
  },
  "language_info": {
   "codemirror_mode": {
    "name": "ipython",
    "version": 3
   },
   "file_extension": ".py",
   "mimetype": "text/x-python",
   "name": "python",
   "nbconvert_exporter": "python",
   "pygments_lexer": "ipython3",
   "version": "3.10.8"
  }
 },
 "nbformat": 4,
 "nbformat_minor": 5
}
