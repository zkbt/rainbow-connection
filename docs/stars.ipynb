{
 "cells": [
  {
   "cell_type": "markdown",
   "id": "0e72a610",
   "metadata": {},
   "source": [
    "# Stellar Spectra\n",
    "\n",
    "You can make a light source object that uses a stellar spectrum, based on the theoretical models of [Husser et al. (2013)](http://phoenix.astro.physik.uni-goettingen.de/#)."
   ]
  },
  {
   "cell_type": "code",
   "execution_count": null,
   "id": "1282c4cd",
   "metadata": {},
   "outputs": [],
   "source": [
    "from rainbowconnection.sources.phoenix import *"
   ]
  },
  {
   "cell_type": "markdown",
   "id": "61e2ecbe",
   "metadata": {},
   "source": [
    "(Add instructions for downloading spectral library.)"
   ]
  },
  {
   "cell_type": "code",
   "execution_count": null,
   "id": "45973c7e",
   "metadata": {},
   "outputs": [],
   "source": [
    "s = Star(teff=3700*u.K, \n",
    "         radius=0.75*u.Rsun, \n",
    "         mass=0.5*u.Msun,\n",
    "         R=5e4)"
   ]
  },
  {
   "cell_type": "markdown",
   "id": "a6b6cf3b",
   "metadata": {},
   "source": [
    "There are a few ways we can plot this spectrum"
   ]
  },
  {
   "cell_type": "code",
   "execution_count": null,
   "id": "5311e2c8",
   "metadata": {},
   "outputs": [],
   "source": [
    "s.plot();\n",
    "s.plot_as_slit_rainbow();"
   ]
  },
  {
   "cell_type": "code",
   "execution_count": null,
   "id": "e6b7d376",
   "metadata": {},
   "outputs": [],
   "source": [
    "xlim = [700, 720]*u.nm\n",
    "s.plot()\n",
    "plt.xlim(*xlim)\n",
    "s.plot_as_slit_rainbow(xlim=xlim, dw=0.01*u.nm);"
   ]
  },
  {
   "cell_type": "markdown",
   "id": "bd2f1b86",
   "metadata": {},
   "source": [
    "If you want access to the arrays of flux and wavelengths, you can pull them out via the `.wavelength()` and `.spectrum()` methods."
   ]
  },
  {
   "cell_type": "code",
   "execution_count": null,
   "id": "a4147806",
   "metadata": {},
   "outputs": [],
   "source": [
    "quantity_support();"
   ]
  },
  {
   "cell_type": "code",
   "execution_count": null,
   "id": "961a162d",
   "metadata": {},
   "outputs": [],
   "source": [
    "w = s.wavelength()\n",
    "f = s.spectrum()\n",
    "plt.plot(w, f);"
   ]
  },
  {
   "cell_type": "markdown",
   "id": "8e9783cb",
   "metadata": {},
   "source": [
    "You might want to know an estimate of the spectrum of the star for a wavelength that's not exactly in the original wavelength grid. You can do so by feeding those wavelengths into the star's `.spectrum()` method."
   ]
  },
  {
   "cell_type": "code",
   "execution_count": null,
   "id": "d0de31b7",
   "metadata": {},
   "outputs": [],
   "source": [
    "w_other = np.linspace(700, 720, 200)*u.nm\n",
    "f_other = s.spectrum(w_other)\n",
    "\n",
    "plt.plot(w, f)\n",
    "plt.plot(w_other, f_other)\n",
    "plt.xlim(695, 725);"
   ]
  }
 ],
 "metadata": {
  "kernelspec": {
   "display_name": "Python 3 (ipykernel)",
   "language": "python",
   "name": "python3"
  },
  "language_info": {
   "codemirror_mode": {
    "name": "ipython",
    "version": 3
   },
   "file_extension": ".py",
   "mimetype": "text/x-python",
   "name": "python",
   "nbconvert_exporter": "python",
   "pygments_lexer": "ipython3",
   "version": "3.9.7"
  }
 },
 "nbformat": 4,
 "nbformat_minor": 5
}
