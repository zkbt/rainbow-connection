{
 "cells": [
  {
   "cell_type": "markdown",
   "metadata": {},
   "source": [
    "# Sunsets\n",
    "\n",
    "One of the main goals of the `rainbowconnection` to help visualize what sunsets would look like on other planets. The `Sunset` object connects a `Spectrum` light source to an `Atmosphere` that can transmit light. `Sunset`s inherit most of the visualization framework from the `Spectrum` class definition, and they add some extra features too."
   ]
  },
  {
   "cell_type": "code",
   "execution_count": null,
   "metadata": {
    "scrolled": true
   },
   "outputs": [],
   "source": [
    "import rainbowconnection as rc\n",
    "import astropy.units as u"
   ]
  },
  {
   "cell_type": "markdown",
   "metadata": {},
   "source": [
    "## Basics of `Sunset` Objects"
   ]
  },
  {
   "cell_type": "markdown",
   "metadata": {},
   "source": [
    "Imagine we want to see what some light source would look like, propagated through some atmosphere. We first create the light source and the atmosphere, and then connect the two of them together. The light source needs to be in the form of a flux ($W/m^2$) from the source seen from a distance, not a luminosity ($W$)."
   ]
  },
  {
   "cell_type": "code",
   "execution_count": null,
   "metadata": {
    "scrolled": true
   },
   "outputs": [],
   "source": [
    "# create the light source\n",
    "source = rc.Sun().at(1*u.au)\n",
    "\n",
    "# create an atmosphere\n",
    "atmosphere = rc.Earth()\n",
    "\n",
    "# connect the two together\n",
    "sunset = atmosphere.transmit(source)"
   ]
  },
  {
   "cell_type": "code",
   "execution_count": null,
   "metadata": {},
   "outputs": [],
   "source": [
    "sunset"
   ]
  },
  {
   "cell_type": "markdown",
   "metadata": {},
   "source": [
    "## Visualizing Sunsets\n",
    "\n",
    "Once we've connected a flux source and an atmosphere, we can plot them in different ways. This starts with the spectrum of sunlight filtered through the atmosphere as a simple plot"
   ]
  },
  {
   "cell_type": "code",
   "execution_count": null,
   "metadata": {},
   "outputs": [],
   "source": [
    "sunset.plot();"
   ]
  },
  {
   "cell_type": "markdown",
   "metadata": {},
   "source": [
    "or as a rainbow"
   ]
  },
  {
   "cell_type": "code",
   "execution_count": null,
   "metadata": {},
   "outputs": [],
   "source": [
    "sunset.plot_as_rainbow();"
   ]
  },
  {
   "cell_type": "markdown",
   "metadata": {},
   "source": [
    "or as RGB colors"
   ]
  },
  {
   "cell_type": "code",
   "execution_count": null,
   "metadata": {},
   "outputs": [],
   "source": [
    "sunset.plot_rgb();"
   ]
  },
  {
   "cell_type": "markdown",
   "metadata": {},
   "source": [
    "or as a colorful disk"
   ]
  },
  {
   "cell_type": "code",
   "execution_count": null,
   "metadata": {},
   "outputs": [],
   "source": [
    "sunset.plot_disk();"
   ]
  },
  {
   "cell_type": "markdown",
   "metadata": {},
   "source": [
    "or as a simulated sunset including the diffuse sky"
   ]
  },
  {
   "cell_type": "code",
   "execution_count": null,
   "metadata": {},
   "outputs": [],
   "source": [
    "sunset.plot_sunset();"
   ]
  },
  {
   "cell_type": "markdown",
   "metadata": {},
   "source": [
    "We can also put all of these components together in one big plot"
   ]
  },
  {
   "cell_type": "code",
   "execution_count": null,
   "metadata": {},
   "outputs": [],
   "source": [
    "sunset.plot_everything(zenith_angle=45*u.deg);"
   ]
  },
  {
   "cell_type": "code",
   "execution_count": null,
   "metadata": {},
   "outputs": [],
   "source": [
    "sunset.plot_everything(zenith_angle=85*u.deg);"
   ]
  },
  {
   "cell_type": "markdown",
   "metadata": {},
   "source": [
    "or make an animation with the solar zenith angle changing over time"
   ]
  },
  {
   "cell_type": "code",
   "execution_count": null,
   "metadata": {},
   "outputs": [],
   "source": [
    "# sunset.animate_everything(filename='earth-sunset.mp4');"
   ]
  },
  {
   "cell_type": "code",
   "execution_count": null,
   "metadata": {},
   "outputs": [],
   "source": [
    "# <video src=\"earth-sunset.mp4\" width=100% controls autoplay loop>"
   ]
  },
  {
   "cell_type": "markdown",
   "metadata": {},
   "source": [
    "## The Diffuse Sky\n",
    "\n",
    "In trying to visualize what the sky might look like, we're adding some diffuse light from the sky away from the disk of the star. Though the color of this diffuse sky is hopefully about right, its brightness is artificially enhanced. The diffuse sky intensity is so faint that it would appear black when rendered on the same linear color scale as the disk of the star, so we fudge things a little bit."
   ]
  },
  {
   "cell_type": "code",
   "execution_count": null,
   "metadata": {},
   "outputs": [],
   "source": [
    "# create a nearby Sun\n",
    "s = rc.Sun().at(0.1*u.au)\n",
    "\n",
    "# create a hot Jupiter atmosphere\n",
    "e = rc.HotJupiter()\n",
    "\n",
    "# connect the two\n",
    "t = e.transmit(s)\n",
    "\n",
    "# plot the sunset for this \n",
    "t.plot_everything(zenith_angle=85*u.deg);"
   ]
  },
  {
   "cell_type": "markdown",
   "metadata": {},
   "source": [
    "On Earth, the diffuse sky comes solely from Rayleigh scattering. On a hot Jupiter, the atmosphere is hot enough that it actually contributes a bit of thermal emission to the diffuse sky too -- that's what's adding the purple glow above."
   ]
  }
 ],
 "metadata": {
  "kernelspec": {
   "display_name": "Python 3 (ipykernel)",
   "language": "python",
   "name": "python3"
  },
  "language_info": {
   "codemirror_mode": {
    "name": "ipython",
    "version": 3
   },
   "file_extension": ".py",
   "mimetype": "text/x-python",
   "name": "python",
   "nbconvert_exporter": "python",
   "pygments_lexer": "ipython3",
   "version": "3.9.5"
  }
 },
 "nbformat": 4,
 "nbformat_minor": 2
}
