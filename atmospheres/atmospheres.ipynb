{
 "cells": [
  {
   "cell_type": "markdown",
   "metadata": {},
   "source": [
    "# Atmospheres\n",
    "\n",
    "The `rainbowconnection` allows us to create different atmospheres, through which light can be propagated. \n",
    "\n"
   ]
  },
  {
   "cell_type": "code",
   "execution_count": null,
   "metadata": {},
   "outputs": [],
   "source": [
    "import rainbowconnection as rc\n",
    "import astropy.units as u\n",
    "import matplotlib.pyplot as plt, numpy as np"
   ]
  },
  {
   "cell_type": "markdown",
   "metadata": {},
   "source": [
    "## Basics of `Atmosphere` Objects\n",
    "\n",
    "Let's create an `Atmosphere` object representing a cartoon of Earth's atmosphere. "
   ]
  },
  {
   "cell_type": "code",
   "execution_count": null,
   "metadata": {},
   "outputs": [],
   "source": [
    "e = rc.Earth()\n",
    "e"
   ]
  },
  {
   "cell_type": "markdown",
   "metadata": {},
   "source": [
    "The `.plot()` method makes a simple plot of the transmission through the atmosphere."
   ]
  },
  {
   "cell_type": "code",
   "execution_count": null,
   "metadata": {},
   "outputs": [],
   "source": [
    "e.plot();"
   ]
  },
  {
   "cell_type": "markdown",
   "metadata": {},
   "source": [
    "The `.transmission()` method returns the transmission, either at the default wavelengths or on a custom grid of wavelengths. The binning is done as averaging in transmission space (not optical depth), so should be reasonably accurate for flat spectral sources."
   ]
  },
  {
   "cell_type": "code",
   "execution_count": null,
   "metadata": {},
   "outputs": [],
   "source": [
    "# use the default grid\n",
    "plt.plot(e.wavelength(), e.transmission())\n",
    "\n",
    "# choose our own wavelengths\n",
    "w = np.linspace(500, 1500) * u.nm\n",
    "plt.plot(w, e.transmission(w))\n",
    "\n",
    "# labels\n",
    "plt.xlabel(\"Wavelength (nm)\")\n",
    "plt.ylabel(\"Fractional Transmission\");"
   ]
  },
  {
   "cell_type": "markdown",
   "metadata": {},
   "source": [
    "## Zenith Angles"
   ]
  },
  {
   "cell_type": "markdown",
   "metadata": {},
   "source": [
    "The atmosphere is assumed to be in hydrostatic balance and well-mixed in its composition. With these assumptions, we can approximate transmission through the atmosphere using the astronomer's notion of \"airmass\" that depends only on the angle we are pointing away from zenith. If we're looking straight up (zenith angle $z = 0^\\circ$), we're looking through the minimum column density possible, which we call an airmass of 1. If we're looking along a path $30^\\circ$ above the horizon (zenith angle $z = 60^\\circ$), then the airmass of $\\sec z = 2$ means we're looking through twice the column density.\n",
    "\n",
    "We can point at different zenith angles in our atmosphere with the `.set_zenith_angle()` method. The `.transmission()` method will remember the last zenith angle to be set, and calculate the transmission along that particular path. "
   ]
  },
  {
   "cell_type": "code",
   "execution_count": null,
   "metadata": {},
   "outputs": [],
   "source": [
    "e.set_zenith_angle(60 * u.deg)\n",
    "e"
   ]
  },
  {
   "cell_type": "code",
   "execution_count": null,
   "metadata": {},
   "outputs": [],
   "source": [
    "e.plot();"
   ]
  },
  {
   "cell_type": "code",
   "execution_count": null,
   "metadata": {},
   "outputs": [],
   "source": [
    "e.set_zenith_angle(90 * u.deg)\n",
    "e.plot();"
   ]
  },
  {
   "cell_type": "markdown",
   "metadata": {},
   "source": [
    "A pretty sunset results from seeing the Sun along different zenith angles through the atmosphere."
   ]
  },
  {
   "cell_type": "code",
   "execution_count": null,
   "metadata": {},
   "outputs": [],
   "source": [
    "ax = None\n",
    "for z in np.arange(0, 91, 5) * u.deg:\n",
    "    e.set_zenith_angle(z)\n",
    "    ax = e.plot(ax)"
   ]
  },
  {
   "cell_type": "markdown",
   "metadata": {},
   "source": [
    "You can also set the initial zenith angle when you create the atmosphere with the `zenith_angle=` keyword argument:"
   ]
  },
  {
   "cell_type": "code",
   "execution_count": null,
   "metadata": {},
   "outputs": [],
   "source": [
    "h = rc.HotJupiter(zenith_angle=45 * u.deg)\n",
    "h.plot()\n",
    "plt.xlim(300, 2500);"
   ]
  },
  {
   "cell_type": "markdown",
   "metadata": {},
   "source": [
    "## Altitudes\n",
    "\n",
    "When creating an atmosphere, you can specify the altitue of your viewing location. In an exponentially stratified atmosphere, a higher altitude will result in greater transmission. The `altitude=` keyword argument when initializing the atmosphere. "
   ]
  },
  {
   "cell_type": "code",
   "execution_count": null,
   "metadata": {},
   "outputs": [],
   "source": [
    "e = rc.Earth(altitude=1.1)\n",
    "e"
   ]
  },
  {
   "cell_type": "markdown",
   "metadata": {},
   "source": [
    "Altitudes are expressed in units of atmospheric scale heights. Earth's surface scale height is about 8 km, so in the above example 1.1 refers to a viewer floating or standing on a mountain 8.8km above sea level. For each scale height we move up in the atmosphere, optical depths will drop off by a factor of 1/e."
   ]
  },
  {
   "cell_type": "code",
   "execution_count": null,
   "metadata": {},
   "outputs": [],
   "source": [
    "ax = None\n",
    "for a in [0, 1, 2]:\n",
    "    e = rc.Earth(altitude=a)\n",
    "    ax = e.plot(ax)"
   ]
  },
  {
   "cell_type": "markdown",
   "metadata": {},
   "source": [
    "On Earth or other planets with solid surfaces, it probably doesn't make sense to talk about negative altitudes. However, on a gas giant, a negative altitude simply refers to an altitude somewhere below the (often arbitrarily-defined) reference altitude.\n"
   ]
  },
  {
   "cell_type": "code",
   "execution_count": null,
   "metadata": {},
   "outputs": [],
   "source": [
    "j = rc.HotJupiter(altitude=-1.5, zenith_angle=45 * u.deg)\n",
    "j"
   ]
  },
  {
   "cell_type": "code",
   "execution_count": null,
   "metadata": {},
   "outputs": [],
   "source": [
    "j.plot()\n",
    "plt.xlim(300, 2500);"
   ]
  },
  {
   "cell_type": "markdown",
   "metadata": {},
   "source": [
    "## Geometry\n",
    "\n",
    "The \"airmass\" approximation assumes a plane-parallel atmosphere. For high airmasses, near the horizon, the plane-parallel approximation definely breaks down and the sphericity of the Earth comes into play. We capture this in an tremendously kludgy way by not allowing the calculated airmass to exceed the slant optical depth factor calculated in [Fortney (2005)](https://ui.adsabs.harvard.edu/abs/2005MNRAS.364..649F/abstract). This factor depends on the ratio of the atmospheric scale height to the radius of the planet:"
   ]
  },
  {
   "cell_type": "code",
   "execution_count": null,
   "metadata": {},
   "outputs": [],
   "source": [
    "e.fortney_factor()"
   ]
  },
  {
   "cell_type": "markdown",
   "metadata": {},
   "source": [
    "This value means that when the Sun is right on the horizon, it has to travel through 71 times more atmosphere than when it is straight overhead. In a true plane-parallel atmosphere, the horizon would correspond to an infinite airmass."
   ]
  }
 ],
 "metadata": {
  "kernelspec": {
   "display_name": "Python 3 (ipykernel)",
   "language": "python",
   "name": "python3"
  },
  "language_info": {
   "codemirror_mode": {
    "name": "ipython",
    "version": 3
   },
   "file_extension": ".py",
   "mimetype": "text/x-python",
   "name": "python",
   "nbconvert_exporter": "python",
   "pygments_lexer": "ipython3",
   "version": "3.9.5"
  }
 },
 "nbformat": 4,
 "nbformat_minor": 2
}
